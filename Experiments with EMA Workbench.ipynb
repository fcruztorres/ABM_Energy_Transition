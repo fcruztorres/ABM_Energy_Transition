{
 "cells": [
  {
   "cell_type": "code",
   "execution_count": 2,
   "metadata": {},
   "outputs": [
    {
     "name": "stdout",
     "output_type": "stream",
     "text": [
      "Collecting pynetlogo\n",
      "  Downloading pyNetLogo-0.4.1.tar.gz (48 kB)\n",
      "Building wheels for collected packages: pynetlogo\n",
      "  Building wheel for pynetlogo (setup.py): started\n",
      "  Building wheel for pynetlogo (setup.py): finished with status 'done'\n",
      "  Created wheel for pynetlogo: filename=pyNetLogo-0.4.1-py3-none-any.whl size=64521 sha256=3cfae6e79c5dc7da2f7d8febc9eb15f9373e44e67d0a91418f5d6bc6e8c69032\n",
      "  Stored in directory: c:\\users\\frac1\\appdata\\local\\pip\\cache\\wheels\\08\\8a\\9c\\3cdf0124bed0bb4876ae3fc4270ff5336b49b7ab081fb95072\n",
      "Successfully built pynetlogo\n",
      "Installing collected packages: pynetlogo\n",
      "Successfully installed pynetlogo-0.4.1\n",
      "Note: you may need to restart the kernel to use updated packages.\n"
     ]
    }
   ],
   "source": [
    "# install pynetlogo\n",
    "pip install pynetlogo"
   ]
  },
  {
   "cell_type": "code",
   "execution_count": 3,
   "metadata": {},
   "outputs": [
    {
     "name": "stdout",
     "output_type": "stream",
     "text": [
      "Collecting JPype1\n",
      "  Downloading JPype1-1.2.1-cp37-cp37m-win_amd64.whl (359 kB)\n",
      "Requirement already satisfied: typing-extensions; python_version < \"3.8\" in c:\\users\\frac1\\anaconda3\\lib\\site-packages (from JPype1) (3.7.4.1)\n",
      "Installing collected packages: JPype1\n",
      "Successfully installed JPype1-1.2.1\n",
      "Note: you may need to restart the kernel to use updated packages.\n"
     ]
    }
   ],
   "source": [
    "# install Java connection to python\n",
    "pip install JPype1"
   ]
  },
  {
   "cell_type": "code",
   "execution_count": 1,
   "metadata": {},
   "outputs": [],
   "source": [
    "# import all necessary python libraries and the pyNetLogo library\n",
    "import pandas as pd\n",
    "import matplotlib.pyplot as plt\n",
    "import seaborn as sns\n",
    "sns.set_style('white')\n",
    "sns.set_context('talk')\n",
    "import pyNetLogo"
   ]
  },
  {
   "cell_type": "code",
   "execution_count": 2,
   "metadata": {},
   "outputs": [],
   "source": [
    "# set up the model\n",
    "netlogo = pyNetLogo.NetLogoLink(gui=True) #Mac users should set this to False\n",
    "\n",
    "netlogo.load_model('./Model.nlogo')\n",
    "netlogo.command('setup')"
   ]
  },
  {
   "cell_type": "code",
   "execution_count": null,
   "metadata": {},
   "outputs": [],
   "source": []
  },
  {
   "cell_type": "code",
   "execution_count": null,
   "metadata": {},
   "outputs": [],
   "source": [
    "# to close the netlogo workspace\n",
    "netlogo.kill_workspace()"
   ]
  }
 ],
 "metadata": {
  "kernelspec": {
   "display_name": "Python 3",
   "language": "python",
   "name": "python3"
  },
  "language_info": {
   "codemirror_mode": {
    "name": "ipython",
    "version": 3
   },
   "file_extension": ".py",
   "mimetype": "text/x-python",
   "name": "python",
   "nbconvert_exporter": "python",
   "pygments_lexer": "ipython3",
   "version": "3.7.3"
  }
 },
 "nbformat": 4,
 "nbformat_minor": 4
}
