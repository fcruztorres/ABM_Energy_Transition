{
 "cells": [
  {
   "cell_type": "code",
   "execution_count": 2,
   "metadata": {},
   "outputs": [
    {
     "output_type": "stream",
     "name": "stdout",
     "text": [
      "Collecting pynetlogo\n",
      "  Downloading pyNetLogo-0.4.1.tar.gz (48 kB)\n",
      "\u001b[K     |████████████████████████████████| 48 kB 182 kB/s \n",
      "\u001b[?25hBuilding wheels for collected packages: pynetlogo\n",
      "  Building wheel for pynetlogo (setup.py) ... \u001b[?25ldone\n",
      "\u001b[?25h  Created wheel for pynetlogo: filename=pyNetLogo-0.4.1-py3-none-any.whl size=64516 sha256=bf8a40c5e8446cbca9adf286f1779b182bc7476ef5778e9660547ac4000fd1dc\n",
      "  Stored in directory: /Users/ricoherzog/Library/Caches/pip/wheels/73/a0/47/93a2adf66bc7381ec21a1be6be2f774a49e4a5ee7a9ef21e54\n",
      "Successfully built pynetlogo\n",
      "Installing collected packages: pynetlogo\n",
      "Successfully installed pynetlogo-0.4.1\n"
     ]
    }
   ],
   "source": [
    "# Prerequisets\n",
    "!pip install pynetlogo\n",
    "!pip install JPype1"
   ]
  },
  {
   "cell_type": "code",
   "execution_count": 1,
   "metadata": {},
   "outputs": [],
   "source": [
    "# import all necessary python libraries and the pyNetLogo library\n",
    "import pandas as pd\n",
    "import numpy as np\n",
    "import matplotlib.pyplot as plt\n",
    "import seaborn as sns\n",
    "sns.set_style('white')\n",
    "sns.set_context('talk')\n",
    "import pyNetLogo\n",
    "\n",
    "from SALib.sample import latin\n",
    "from SALib.analyze import sobol"
   ]
  },
  {
   "cell_type": "code",
   "execution_count": 2,
   "metadata": {},
   "outputs": [],
   "source": [
    "# set up the model\n",
    "netlogo = pyNetLogo.NetLogoLink(gui=False) #Mac users should set this to False\n",
    "netlogo.load_model('Model.nlogo')"
   ]
  },
  {
   "source": [
    "# Setup Experiments"
   ],
   "cell_type": "markdown",
   "metadata": {}
  },
  {
   "cell_type": "code",
   "execution_count": 65,
   "metadata": {},
   "outputs": [],
   "source": [
    "# Parameters\n",
    "no_samples = 10\n",
    "no_repetitions = 100"
   ]
  },
  {
   "cell_type": "code",
   "execution_count": 66,
   "metadata": {},
   "outputs": [
    {
     "output_type": "execute_result",
     "data": {
      "text/plain": [
       "array([[15.0, 21.0, 2.0, -2.0, 4.0, 7.0, False],\n",
       "       [1.0, 18.0, 21.0, 4.0, 1.0, 21.0, False],\n",
       "       [18.0, 4.0, 19.0, -0.0, -1.0, 18.0, True],\n",
       "       [7.0, 13.0, 12.0, -4.0, -2.0, 15.0, True],\n",
       "       [24.0, 8.0, 8.0, 1.0, -3.0, 1.0, False]], dtype=object)"
      ]
     },
     "metadata": {},
     "execution_count": 66
    }
   ],
   "source": [
    "problem = {\n",
    "  'num_vars': 7,\n",
    "  'names': ['administrative-network-meetings',\n",
    "           'total-project-proposal-frequency',\n",
    "           'informal-meetings-frequency',\n",
    "           'green-energy-openness-change',\n",
    "           'political-variety-change',\n",
    "           'max-project-capacity',\n",
    "           'random-intial-trust'],\n",
    "  'bounds': [[0, 25],\n",
    "            [0, 25],\n",
    "            [0, 25],\n",
    "            [-5,5],\n",
    "            [-5,5],\n",
    "            [0, 25],\n",
    "            [0, 1]]\n",
    "}\n",
    "\n",
    "param_values = np.round(latin.sample(problem, no_samples))\n",
    "df = pd.DataFrame(param_values)\n",
    "df.iloc[:,-1] = df.iloc[:,-1].astype(\"bool\")\n",
    "param_values = np.array(df)\n",
    "param_values"
   ]
  },
  {
   "cell_type": "code",
   "execution_count": 71,
   "metadata": {},
   "outputs": [
    {
     "output_type": "execute_result",
     "data": {
      "text/plain": [
       "  administrative-network-meetings total-project-proposal-frequency  \\\n",
       "0                            15.0                             21.0   \n",
       "1                             1.0                             18.0   \n",
       "2                            18.0                              4.0   \n",
       "3                             7.0                             13.0   \n",
       "4                            24.0                              8.0   \n",
       "\n",
       "  informal-meetings-frequency green-energy-openness-change  \\\n",
       "0                         2.0                         -2.0   \n",
       "1                        21.0                          4.0   \n",
       "2                        19.0                         -0.0   \n",
       "3                        12.0                         -4.0   \n",
       "4                         8.0                          1.0   \n",
       "\n",
       "  political-variety-change max-project-capacity random-intial-trust  \n",
       "0                      4.0                  7.0               False  \n",
       "1                      1.0                 21.0               False  \n",
       "2                     -1.0                 18.0                True  \n",
       "3                     -2.0                 15.0                True  \n",
       "4                     -3.0                  1.0               False  "
      ],
      "text/html": "<div>\n<style scoped>\n    .dataframe tbody tr th:only-of-type {\n        vertical-align: middle;\n    }\n\n    .dataframe tbody tr th {\n        vertical-align: top;\n    }\n\n    .dataframe thead th {\n        text-align: right;\n    }\n</style>\n<table border=\"1\" class=\"dataframe\">\n  <thead>\n    <tr style=\"text-align: right;\">\n      <th></th>\n      <th>administrative-network-meetings</th>\n      <th>total-project-proposal-frequency</th>\n      <th>informal-meetings-frequency</th>\n      <th>green-energy-openness-change</th>\n      <th>political-variety-change</th>\n      <th>max-project-capacity</th>\n      <th>random-intial-trust</th>\n    </tr>\n  </thead>\n  <tbody>\n    <tr>\n      <th>0</th>\n      <td>15.0</td>\n      <td>21.0</td>\n      <td>2.0</td>\n      <td>-2.0</td>\n      <td>4.0</td>\n      <td>7.0</td>\n      <td>False</td>\n    </tr>\n    <tr>\n      <th>1</th>\n      <td>1.0</td>\n      <td>18.0</td>\n      <td>21.0</td>\n      <td>4.0</td>\n      <td>1.0</td>\n      <td>21.0</td>\n      <td>False</td>\n    </tr>\n    <tr>\n      <th>2</th>\n      <td>18.0</td>\n      <td>4.0</td>\n      <td>19.0</td>\n      <td>-0.0</td>\n      <td>-1.0</td>\n      <td>18.0</td>\n      <td>True</td>\n    </tr>\n    <tr>\n      <th>3</th>\n      <td>7.0</td>\n      <td>13.0</td>\n      <td>12.0</td>\n      <td>-4.0</td>\n      <td>-2.0</td>\n      <td>15.0</td>\n      <td>True</td>\n    </tr>\n    <tr>\n      <th>4</th>\n      <td>24.0</td>\n      <td>8.0</td>\n      <td>8.0</td>\n      <td>1.0</td>\n      <td>-3.0</td>\n      <td>1.0</td>\n      <td>False</td>\n    </tr>\n  </tbody>\n</table>\n</div>"
     },
     "metadata": {},
     "execution_count": 71
    }
   ],
   "source": [
    "param_values_df = pd.DataFrame(param_values, columns=['administrative-network-meetings',         'total-project-proposal-frequency', 'informal-meetings-frequency', 'green-energy-openness-change',        'political-variety-change', 'max-project-capacity', 'random-intial-trust'])\n",
    "param_values_df"
   ]
  },
  {
   "cell_type": "code",
   "execution_count": 68,
   "metadata": {},
   "outputs": [],
   "source": [
    "idx = pd.MultiIndex.from_product([[],[]],names=['Run', 'Random Seed'])\n",
    "col = ['MW_implemented_wind', 'MW_implemented_solar', 'MW_implemented_urban']\n",
    "results = pd.DataFrame('', idx, col)\n",
    "\n",
    "for run in range(param_values.shape[0]):\n",
    "    for rs in range(no_repetitions):\n",
    "        netlogo.command('setup')\n",
    "        netlogo.command('random-seed {}'.format(rs))\n",
    "        \n",
    "        # Set the input parameters\n",
    "        for i, name in enumerate(problem['names']):\n",
    "            # Otherwise, assume the input parameters are global variables\n",
    "            netlogo.command('set {0} {1}'.format(name, param_values[run,i]))\n",
    "\n",
    "\n",
    "        # Run for 100 ticks and return the number of sheep and wolf agents at \n",
    "        # each time step\n",
    "        MW_implemented = netlogo.repeat_report(['current-wind-production','current-solar-production', 'current-urban-production'], 360)\n",
    "    \n",
    "        # For each run, save the value of MW_implemented\n",
    "        results.loc[(run, rs), 'MW_implemented_wind'] = MW_implemented['current-wind-production'].max()\n",
    "        results.loc[(run, rs), 'MW_implemented_solar'] = MW_implemented['current-solar-production'].max()\n",
    "        results.loc[(run, rs), 'MW_implemented_urban'] = MW_implemented['current-urban-production'].max()"
   ]
  },
  {
   "cell_type": "code",
   "execution_count": 73,
   "metadata": {},
   "outputs": [
    {
     "output_type": "execute_result",
     "data": {
      "text/plain": [
       "'2021-02-06 19:16:15.130096'"
      ]
     },
     "metadata": {},
     "execution_count": 73
    }
   ],
   "source": [
    "from datetime import datetime\n",
    "dateTimeObj = datetime.now()\n",
    "str(dateTimeObj)"
   ]
  },
  {
   "cell_type": "code",
   "execution_count": 74,
   "metadata": {},
   "outputs": [],
   "source": [
    "# Save Parameters\n",
    "param_values_df.to_csv(\"results/parameters\"+str(dateTimeObj)+\".csv\")\n",
    "\n",
    "# Save Results \n",
    "results.to_csv(\"results/outcomes\"+str(dateTimeObj)+\".csv\")"
   ]
  },
  {
   "cell_type": "code",
   "execution_count": 18,
   "metadata": {},
   "outputs": [],
   "source": [
    "# to close the netlogo workspace\n",
    "netlogo.kill_workspace()"
   ]
  }
 ],
 "metadata": {
  "kernelspec": {
   "display_name": "Python 3",
   "language": "python",
   "name": "python3"
  },
  "language_info": {
   "codemirror_mode": {
    "name": "ipython",
    "version": 3
   },
   "file_extension": ".py",
   "mimetype": "text/x-python",
   "name": "python",
   "nbconvert_exporter": "python",
   "pygments_lexer": "ipython3",
   "version": "3.8.5-final"
  }
 },
 "nbformat": 4,
 "nbformat_minor": 4
}