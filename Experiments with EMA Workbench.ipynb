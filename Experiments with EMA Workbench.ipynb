{
 "cells": [
  {
   "cell_type": "code",
   "execution_count": 2,
   "metadata": {},
   "outputs": [
    {
     "name": "stdout",
     "output_type": "stream",
     "text": [
      "Collecting pynetlogo\n",
      "  Downloading pyNetLogo-0.4.1.tar.gz (48 kB)\n",
      "Building wheels for collected packages: pynetlogo\n",
      "  Building wheel for pynetlogo (setup.py): started\n",
      "  Building wheel for pynetlogo (setup.py): finished with status 'done'\n",
      "  Created wheel for pynetlogo: filename=pyNetLogo-0.4.1-py3-none-any.whl size=64521 sha256=3cfae6e79c5dc7da2f7d8febc9eb15f9373e44e67d0a91418f5d6bc6e8c69032\n",
      "  Stored in directory: c:\\users\\frac1\\appdata\\local\\pip\\cache\\wheels\\08\\8a\\9c\\3cdf0124bed0bb4876ae3fc4270ff5336b49b7ab081fb95072\n",
      "Successfully built pynetlogo\n",
      "Installing collected packages: pynetlogo\n",
      "Successfully installed pynetlogo-0.4.1\n",
      "Note: you may need to restart the kernel to use updated packages.\n"
     ]
    }
   ],
   "source": [
    "# install pynetlogo\n",
    "pip install pynetlogo"
   ]
  },
  {
   "cell_type": "code",
   "execution_count": 3,
   "metadata": {},
   "outputs": [
    {
     "name": "stdout",
     "output_type": "stream",
     "text": [
      "Collecting JPype1\n",
      "  Downloading JPype1-1.2.1-cp37-cp37m-win_amd64.whl (359 kB)\n",
      "Requirement already satisfied: typing-extensions; python_version < \"3.8\" in c:\\users\\frac1\\anaconda3\\lib\\site-packages (from JPype1) (3.7.4.1)\n",
      "Installing collected packages: JPype1\n",
      "Successfully installed JPype1-1.2.1\n",
      "Note: you may need to restart the kernel to use updated packages.\n"
     ]
    }
   ],
   "source": [
    "# install Java connection to python\n",
    "pip install JPype1"
   ]
  },
  {
   "cell_type": "code",
   "execution_count": 3,
   "metadata": {},
   "outputs": [],
   "source": [
    "# import all necessary python libraries and the pyNetLogo library\n",
    "import pandas as pd\n",
    "import numpy as np\n",
    "import matplotlib.pyplot as plt\n",
    "import seaborn as sns\n",
    "sns.set_style('white')\n",
    "sns.set_context('talk')\n",
    "import pyNetLogo\n",
    "\n",
    "from SALib.sample import latin\n",
    "from SALib.analyze import sobol"
   ]
  },
  {
   "cell_type": "code",
   "execution_count": 4,
   "metadata": {},
   "outputs": [],
   "source": [
    "# set up the model\n",
    "netlogo = pyNetLogo.NetLogoLink(gui=False) #Mac users should set this to False\n",
    "\n",
    "netlogo.load_model('./Model.nlogo')"
   ]
  },
  {
   "cell_type": "code",
   "execution_count": 50,
   "metadata": {},
   "outputs": [
    {
     "data": {
      "text/plain": [
       "array([[19., 14.,  0.,  4.,  1.,  5.,  1.],\n",
       "       [ 2.,  3., 13., -5., -4.,  9.,  1.],\n",
       "       [ 4., 22., 17., -0., -0., 14.,  0.],\n",
       "       [20., 16.,  3.,  2., -5.,  1.,  1.],\n",
       "       [24.,  1., 25.,  1.,  3., 23.,  0.],\n",
       "       [17., 23., 11.,  4., -2., 12.,  0.],\n",
       "       [14.,  9.,  7., -1.,  2.,  6.,  0.],\n",
       "       [ 9., 19., 22., -3.,  1., 19.,  0.],\n",
       "       [11.,  7., 19., -3.,  4., 16.,  1.],\n",
       "       [ 6., 12.,  8.,  1., -1., 21.,  1.]])"
      ]
     },
     "execution_count": 50,
     "metadata": {},
     "output_type": "execute_result"
    }
   ],
   "source": [
    "problem = {\n",
    "  'num_vars': 7,\n",
    "  'names': ['administrative-network-meetings',\n",
    "           'total-project-proposal-frequency',\n",
    "           'informal-meetings-frequency',\n",
    "           'green-energy-openness-change',\n",
    "           'political-variety-change',\n",
    "           'max-project-capacity',\n",
    "           'random-intial-trust'],\n",
    "  'bounds': [[0, 25],\n",
    "            [0, 25],\n",
    "            [0, 25],\n",
    "            [-5,5],\n",
    "            [-5,5],\n",
    "            [0, 25],\n",
    "            [0, 1]]\n",
    "}\n",
    "n = 10\n",
    "\n",
    "param_values = np.round(latin.sample(problem, n))\n",
    "param_values"
   ]
  },
  {
   "cell_type": "code",
   "execution_count": 51,
   "metadata": {},
   "outputs": [
    {
     "data": {
      "text/plain": [
       "array([[19.0, 14.0, 0.0, 4.0, 1.0, 5.0, True],\n",
       "       [2.0, 3.0, 13.0, -5.0, -4.0, 9.0, True],\n",
       "       [4.0, 22.0, 17.0, -0.0, -0.0, 14.0, False],\n",
       "       [20.0, 16.0, 3.0, 2.0, -5.0, 1.0, True],\n",
       "       [24.0, 1.0, 25.0, 1.0, 3.0, 23.0, False],\n",
       "       [17.0, 23.0, 11.0, 4.0, -2.0, 12.0, False],\n",
       "       [14.0, 9.0, 7.0, -1.0, 2.0, 6.0, False],\n",
       "       [9.0, 19.0, 22.0, -3.0, 1.0, 19.0, False],\n",
       "       [11.0, 7.0, 19.0, -3.0, 4.0, 16.0, True],\n",
       "       [6.0, 12.0, 8.0, 1.0, -1.0, 21.0, True]], dtype=object)"
      ]
     },
     "execution_count": 51,
     "metadata": {},
     "output_type": "execute_result"
    }
   ],
   "source": [
    "df = pd.DataFrame(param_values)\n",
    "df.iloc[:,-1] = df.iloc[:,-1].astype(\"bool\")\n",
    "param_values = np.array(df)\n",
    "param_values"
   ]
  },
  {
   "cell_type": "code",
   "execution_count": 79,
   "metadata": {},
   "outputs": [
    {
     "data": {
      "text/plain": [
       "[0, 1, 2, 3]"
      ]
     },
     "execution_count": 79,
     "metadata": {},
     "output_type": "execute_result"
    }
   ],
   "source": [
    "vector = []\n"
   ]
  },
  {
   "cell_type": "code",
   "execution_count": 85,
   "metadata": {},
   "outputs": [
    {
     "data": {
      "text/html": [
       "<div>\n",
       "<style scoped>\n",
       "    .dataframe tbody tr th:only-of-type {\n",
       "        vertical-align: middle;\n",
       "    }\n",
       "\n",
       "    .dataframe tbody tr th {\n",
       "        vertical-align: top;\n",
       "    }\n",
       "\n",
       "    .dataframe thead th {\n",
       "        text-align: right;\n",
       "    }\n",
       "</style>\n",
       "<table border=\"1\" class=\"dataframe\">\n",
       "  <thead>\n",
       "    <tr style=\"text-align: right;\">\n",
       "      <th></th>\n",
       "      <th>MW_implemented_wind</th>\n",
       "      <th>MW_implemented_solar</th>\n",
       "      <th>MW_implemented_urban</th>\n",
       "    </tr>\n",
       "  </thead>\n",
       "  <tbody>\n",
       "    <tr>\n",
       "      <th>0</th>\n",
       "      <td>NaN</td>\n",
       "      <td>NaN</td>\n",
       "      <td>NaN</td>\n",
       "    </tr>\n",
       "    <tr>\n",
       "      <th>1</th>\n",
       "      <td>NaN</td>\n",
       "      <td>NaN</td>\n",
       "      <td>NaN</td>\n",
       "    </tr>\n",
       "    <tr>\n",
       "      <th>2</th>\n",
       "      <td>NaN</td>\n",
       "      <td>NaN</td>\n",
       "      <td>NaN</td>\n",
       "    </tr>\n",
       "    <tr>\n",
       "      <th>3</th>\n",
       "      <td>NaN</td>\n",
       "      <td>NaN</td>\n",
       "      <td>NaN</td>\n",
       "    </tr>\n",
       "    <tr>\n",
       "      <th>4</th>\n",
       "      <td>NaN</td>\n",
       "      <td>NaN</td>\n",
       "      <td>NaN</td>\n",
       "    </tr>\n",
       "  </tbody>\n",
       "</table>\n",
       "</div>"
      ],
      "text/plain": [
       "  MW_implemented_wind MW_implemented_solar MW_implemented_urban\n",
       "0                 NaN                  NaN                  NaN\n",
       "1                 NaN                  NaN                  NaN\n",
       "2                 NaN                  NaN                  NaN\n",
       "3                 NaN                  NaN                  NaN\n",
       "4                 NaN                  NaN                  NaN"
      ]
     },
     "execution_count": 85,
     "metadata": {},
     "output_type": "execute_result"
    }
   ],
   "source": [
    "results = pd.DataFrame(index= vector, columns=['MW_implemented_wind', 'MW_implemented_solar', 'MW_implemented_urban'])\n",
    "# for rs in range(5):\n",
    "#     results.index\n",
    "results"
   ]
  },
  {
   "cell_type": "code",
   "execution_count": null,
   "metadata": {},
   "outputs": [],
   "source": [
    "results = pd.DataFrame(index= ['Random_seed'], columns=['MW_implemented_wind', 'MW_implemented_solar', 'MW_implemented_urban'])\n",
    "\n",
    "for rs in range(5):\n",
    "    \n",
    "    netlogo.command('setup')\n",
    "    netlogo.command('random-seed {}'.format(rs))\n",
    "    results.loc[\"Random_seed\"] = rs\n",
    "    \n",
    "    for run in range(param_values.shape[0]):       \n",
    "        \n",
    "        # Set the input parameters\n",
    "        for i, name in enumerate(problem['names']):\n",
    "            # Otherwise, assume the input parameters are global variables\n",
    "            netlogo.command('set {0} {1}'.format(name, param_values[run,i]))\n",
    "\n",
    "\n",
    "        # Run for 100 ticks and return the number of sheep and wolf agents at \n",
    "        # each time step\n",
    "        MW_implemented = netlogo.repeat_report(['current-wind-production','current-solar-production', 'current-urban-production'], 100)\n",
    "    \n",
    "        # For each run, save the value of MW_implemented\n",
    "        results.loc[run, 'MW_implemented_wind'] = MW_implemented['current-wind-production'].max()\n",
    "        results.loc[run, 'MW_implemented_solar'] = MW_implemented['current-solar-production'].max()\n",
    "        results.loc[run, 'MW_implemented_urban'] = MW_implemented['current-urban-production'].max()"
   ]
  },
  {
   "cell_type": "code",
   "execution_count": 58,
   "metadata": {},
   "outputs": [],
   "source": [
    "results = pd.DataFrame(columns=['MW_implemented_wind', 'MW_implemented_solar', 'MW_implemented_urban'])\n",
    "\n",
    "for run in range(param_values.shape[0]):\n",
    "    for rs in range(5):\n",
    "        netlogo.command('setup')\n",
    "        netlogo.command('random-seed {}'.format(rs))\n",
    "        \n",
    "        # Set the input parameters\n",
    "        for i, name in enumerate(problem['names']):\n",
    "            # Otherwise, assume the input parameters are global variables\n",
    "            netlogo.command('set {0} {1}'.format(name, param_values[run,i]))\n",
    "\n",
    "\n",
    "        # Run for 100 ticks and return the number of sheep and wolf agents at \n",
    "        # each time step\n",
    "        MW_implemented = netlogo.repeat_report(['current-wind-production','current-solar-production', 'current-urban-production'], 100)\n",
    "    \n",
    "        # For each run, save the value of MW_implemented\n",
    "        results.loc[run, 'MW_implemented_wind'] = MW_implemented['current-wind-production'].max()\n",
    "        results.loc[run, 'MW_implemented_solar'] = MW_implemented['current-solar-production'].max()\n",
    "        results.loc[run, 'MW_implemented_urban'] = MW_implemented['current-urban-production'].max()"
   ]
  },
  {
   "cell_type": "code",
   "execution_count": 59,
   "metadata": {},
   "outputs": [
    {
     "data": {
      "text/html": [
       "<div>\n",
       "<style scoped>\n",
       "    .dataframe tbody tr th:only-of-type {\n",
       "        vertical-align: middle;\n",
       "    }\n",
       "\n",
       "    .dataframe tbody tr th {\n",
       "        vertical-align: top;\n",
       "    }\n",
       "\n",
       "    .dataframe thead th {\n",
       "        text-align: right;\n",
       "    }\n",
       "</style>\n",
       "<table border=\"1\" class=\"dataframe\">\n",
       "  <thead>\n",
       "    <tr style=\"text-align: right;\">\n",
       "      <th></th>\n",
       "      <th>MW_implemented_wind</th>\n",
       "      <th>MW_implemented_solar</th>\n",
       "      <th>MW_implemented_urban</th>\n",
       "    </tr>\n",
       "  </thead>\n",
       "  <tbody>\n",
       "    <tr>\n",
       "      <th>Random_seed</th>\n",
       "      <td>NaN</td>\n",
       "      <td>NaN</td>\n",
       "      <td>NaN</td>\n",
       "    </tr>\n",
       "    <tr>\n",
       "      <th>0</th>\n",
       "      <td>15</td>\n",
       "      <td>75</td>\n",
       "      <td>69</td>\n",
       "    </tr>\n",
       "    <tr>\n",
       "      <th>1</th>\n",
       "      <td>5</td>\n",
       "      <td>15</td>\n",
       "      <td>7.5</td>\n",
       "    </tr>\n",
       "    <tr>\n",
       "      <th>2</th>\n",
       "      <td>49</td>\n",
       "      <td>193</td>\n",
       "      <td>111</td>\n",
       "    </tr>\n",
       "    <tr>\n",
       "      <th>3</th>\n",
       "      <td>30</td>\n",
       "      <td>45</td>\n",
       "      <td>106.5</td>\n",
       "    </tr>\n",
       "    <tr>\n",
       "      <th>4</th>\n",
       "      <td>0</td>\n",
       "      <td>0</td>\n",
       "      <td>0</td>\n",
       "    </tr>\n",
       "    <tr>\n",
       "      <th>5</th>\n",
       "      <td>35</td>\n",
       "      <td>179</td>\n",
       "      <td>121.5</td>\n",
       "    </tr>\n",
       "    <tr>\n",
       "      <th>6</th>\n",
       "      <td>0</td>\n",
       "      <td>45</td>\n",
       "      <td>51</td>\n",
       "    </tr>\n",
       "    <tr>\n",
       "      <th>7</th>\n",
       "      <td>30</td>\n",
       "      <td>90</td>\n",
       "      <td>93</td>\n",
       "    </tr>\n",
       "    <tr>\n",
       "      <th>8</th>\n",
       "      <td>20</td>\n",
       "      <td>15</td>\n",
       "      <td>21</td>\n",
       "    </tr>\n",
       "    <tr>\n",
       "      <th>9</th>\n",
       "      <td>20</td>\n",
       "      <td>75</td>\n",
       "      <td>60</td>\n",
       "    </tr>\n",
       "  </tbody>\n",
       "</table>\n",
       "</div>"
      ],
      "text/plain": [
       "            MW_implemented_wind MW_implemented_solar MW_implemented_urban\n",
       "Random_seed                 NaN                  NaN                  NaN\n",
       "0                            15                   75                   69\n",
       "1                             5                   15                  7.5\n",
       "2                            49                  193                  111\n",
       "3                            30                   45                106.5\n",
       "4                             0                    0                    0\n",
       "5                            35                  179                121.5\n",
       "6                             0                   45                   51\n",
       "7                            30                   90                   93\n",
       "8                            20                   15                   21\n",
       "9                            20                   75                   60"
      ]
     },
     "execution_count": 59,
     "metadata": {},
     "output_type": "execute_result"
    }
   ],
   "source": [
    "results"
   ]
  },
  {
   "cell_type": "code",
   "execution_count": null,
   "metadata": {
    "jupyter": {
     "source_hidden": true
    }
   },
   "outputs": [],
   "source": [
    "#Set the input parameters\n",
    "for i, name in enumerate(problem['names']):\n",
    "    if name == 'random-seed':\n",
    "        #The NetLogo random seed requires a different syntax\n",
    "        netlogo.command('random-seed {}'.format(i))\n",
    "    else:\n",
    "        #Otherwise, assume the input parameters are global variables\n",
    "        netlogo.command('set {0} {1}'.format(name, experiment[i]))\n",
    "\n",
    "netlogo.command('setup')\n",
    "#Run for 100 ticks and return the number of sheep and wolf agents at each time step\n",
    "MW_implemented = netlogo.repeat_report(['current-renewable-production \"wind\"','current-renewable-production \"solar\"', 'current-renewable-production \"urban\"'], 100)"
   ]
  },
  {
   "cell_type": "code",
   "execution_count": 19,
   "metadata": {
    "jupyter": {
     "source_hidden": true
    }
   },
   "outputs": [],
   "source": [
    "# set up a simulation function that takes a single experiment (i.e. a vector of input parameters)\n",
    "# as an argument, and returns the outcomes of interest in a pandas Series\n",
    "\n",
    "def simulation(experiment):\n",
    "\n",
    "    #Set the input parameters\n",
    "    for i, name in enumerate(problem['names']):\n",
    "        if name == 'random-seed':\n",
    "            #The NetLogo random seed requires a different syntax\n",
    "            netlogo.command('random-seed {}'.format(experiment[i]))\n",
    "        else:\n",
    "            #Otherwise, assume the input parameters are global variables\n",
    "            netlogo.command('set {0} {1}'.format(name, experiment[i]))\n",
    "\n",
    "    netlogo.command('setup')\n",
    "    #Run for 100 ticks and return the number of sheep and wolf agents at each time step\n",
    "    MW_implemented = netlogo.repeat_report(['current-renewable-production \"wind\"','current-renewable-production \"solar\"', 'current-renewable-production \"urban\"'], 100)\n",
    "\n",
    "\n",
    "    return MW_implemented"
   ]
  },
  {
   "cell_type": "code",
   "execution_count": 18,
   "metadata": {},
   "outputs": [],
   "source": [
    "# to close the netlogo workspace\n",
    "netlogo.kill_workspace()"
   ]
  }
 ],
 "metadata": {
  "kernelspec": {
   "display_name": "Python 3",
   "language": "python",
   "name": "python3"
  },
  "language_info": {
   "codemirror_mode": {
    "name": "ipython",
    "version": 3
   },
   "file_extension": ".py",
   "mimetype": "text/x-python",
   "name": "python",
   "nbconvert_exporter": "python",
   "pygments_lexer": "ipython3",
   "version": "3.7.3"
  }
 },
 "nbformat": 4,
 "nbformat_minor": 4
}
