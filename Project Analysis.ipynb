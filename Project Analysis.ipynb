{
 "cells": [
  {
   "cell_type": "code",
   "execution_count": 1,
   "source": [
    "import pandas as pd\n",
    "import numpy as np\n"
   ],
   "outputs": [],
   "metadata": {}
  },
  {
   "cell_type": "code",
   "execution_count": 21,
   "source": [
    "projects = pd.read_csv(\"data/renewable_energy_projects_netherlands.csv\", sep=\";\", thousands=r'.', decimal=\",\")\n",
    "projects"
   ],
   "outputs": [
    {
     "output_type": "execute_result",
     "data": {
      "text/plain": [
       "      Referentie Thema                                   Categorie  \\\n",
       "0     SDE1920005   Zon  2019 Zon-PV >= 1 MWp veld- of watersysteem   \n",
       "1     SDE1920012   Zon            2019 Zon-PV >= 15 kWp en < 1 MWp   \n",
       "2     SDE1920014   Zon            2019 Zon-PV >= 15 kWp en < 1 MWp   \n",
       "3     SDE1920018   Zon            2019 Zon-PV >= 15 kWp en < 1 MWp   \n",
       "4     SDE1920030   Zon            2019 Zon-PV >= 15 kWp en < 1 MWp   \n",
       "...          ...   ...                                         ...   \n",
       "1155  SDE1929978   Zon            2019 Zon-PV >= 15 kWp en < 1 MWp   \n",
       "1156  SDE1929981   Zon  2019 Zon-PV >= 1 MWp veld- of watersysteem   \n",
       "1157  SDE1929983   Zon  2019 Zon-PV >= 1 MWp veld- of watersysteem   \n",
       "1158  SDE1929985   Zon            2019 Zon-PV >= 15 kWp en < 1 MWp   \n",
       "1159  SDE1929997   Zon            2019 Zon-PV >= 15 kWp en < 1 MWp   \n",
       "\n",
       "                              Aanvrager Naam                      Adres  \\\n",
       "0                       Groot Roodehaan B.V.  Zonnepark Groot Roodehaan   \n",
       "1                                L.M.S. B.V.                Poelweg 40d   \n",
       "2                CBRE Dret Custodian II B.V.            Belgieplein 107   \n",
       "3     Achterbosch Kleinmetaal Bewerking B.V.                Dieselweg 4   \n",
       "4                                        ***                        ***   \n",
       "...                                      ...                        ...   \n",
       "1155                  Burgy Bouwbedrijf B.V.               Amphoraweg 1   \n",
       "1156                Rivierenland, Waterschap              Robijnsweg 15   \n",
       "1157                              Groenleven  Zonnepark Bornwird Dokkum   \n",
       "1158                        Gemeente Utrecht              Bouwstraat 55   \n",
       "1159             CBRE Dret Custodian II B.V.            Belgieplein 106   \n",
       "\n",
       "     Postcode Plaats lokatie      Provincie  Power [MW]  \\\n",
       "0           -      GRONINGEN      Groningen       38.99   \n",
       "1      1424PB      DE KWAKEL  Noord-Holland        0.89   \n",
       "2      1066RC      AMSTERDAM  Noord-Holland        0.21   \n",
       "3      7591HG       DENEKAMP     Overijssel        0.49   \n",
       "4      5688**       OIRSCHOT  Noord-Brabant        0.32   \n",
       "...       ...            ...            ...         ...   \n",
       "1155   2332ED         LEIDEN   Zuid-Holland        0.22   \n",
       "1156   4254LB      SLEEUWIJK  Noord-Brabant        2.97   \n",
       "1157        -         DOKKUM      Friesland       11.49   \n",
       "1158   3572SP        UTRECHT        Utrecht        0.03   \n",
       "1159   1066SC      AMSTERDAM  Noord-Holland        0.17   \n",
       "\n",
       "      Available production per year [MWh]  Lifespan [jr.]  \\\n",
       "0                                   37041              15   \n",
       "1                                     844              15   \n",
       "2                                     203              15   \n",
       "3                                     464              15   \n",
       "4                                     304              15   \n",
       "...                                   ...             ...   \n",
       "1155                                  204              15   \n",
       "1156                                 2822              15   \n",
       "1157                                10916              15   \n",
       "1158                                   30              15   \n",
       "1159                                  160              15   \n",
       "\n",
       "      Maximale subsidie [€] Opstelling Zon-pv  Unnamed: 13  Unnamed: 14  \n",
       "0                  33892927      Veldsysteem           NaN          NaN  \n",
       "1                    822510       Daksysteem           NaN          NaN  \n",
       "2                    192119       Daksysteem           NaN          NaN  \n",
       "3                    452010       Daksysteem           NaN          NaN  \n",
       "4                    296400       Daksysteem           NaN          NaN  \n",
       "...                     ...               ...          ...          ...  \n",
       "1155                 199144       Daksysteem           NaN          NaN  \n",
       "1156                2666318      Veldsysteem           NaN          NaN  \n",
       "1157               10151415      Veldsysteem           NaN          NaN  \n",
       "1158                  29177       Daksysteem           NaN          NaN  \n",
       "1159                 151630       Daksysteem           NaN          NaN  \n",
       "\n",
       "[1160 rows x 15 columns]"
      ],
      "text/html": [
       "<div>\n",
       "<style scoped>\n",
       "    .dataframe tbody tr th:only-of-type {\n",
       "        vertical-align: middle;\n",
       "    }\n",
       "\n",
       "    .dataframe tbody tr th {\n",
       "        vertical-align: top;\n",
       "    }\n",
       "\n",
       "    .dataframe thead th {\n",
       "        text-align: right;\n",
       "    }\n",
       "</style>\n",
       "<table border=\"1\" class=\"dataframe\">\n",
       "  <thead>\n",
       "    <tr style=\"text-align: right;\">\n",
       "      <th></th>\n",
       "      <th>Referentie</th>\n",
       "      <th>Thema</th>\n",
       "      <th>Categorie</th>\n",
       "      <th>Aanvrager Naam</th>\n",
       "      <th>Adres</th>\n",
       "      <th>Postcode</th>\n",
       "      <th>Plaats lokatie</th>\n",
       "      <th>Provincie</th>\n",
       "      <th>Power [MW]</th>\n",
       "      <th>Available production per year [MWh]</th>\n",
       "      <th>Lifespan [jr.]</th>\n",
       "      <th>Maximale subsidie [€]</th>\n",
       "      <th>Opstelling Zon-pv</th>\n",
       "      <th>Unnamed: 13</th>\n",
       "      <th>Unnamed: 14</th>\n",
       "    </tr>\n",
       "  </thead>\n",
       "  <tbody>\n",
       "    <tr>\n",
       "      <th>0</th>\n",
       "      <td>SDE1920005</td>\n",
       "      <td>Zon</td>\n",
       "      <td>2019 Zon-PV &gt;= 1 MWp veld- of watersysteem</td>\n",
       "      <td>Groot Roodehaan B.V.</td>\n",
       "      <td>Zonnepark Groot Roodehaan</td>\n",
       "      <td>-</td>\n",
       "      <td>GRONINGEN</td>\n",
       "      <td>Groningen</td>\n",
       "      <td>38.99</td>\n",
       "      <td>37041</td>\n",
       "      <td>15</td>\n",
       "      <td>33892927</td>\n",
       "      <td>Veldsysteem</td>\n",
       "      <td>NaN</td>\n",
       "      <td>NaN</td>\n",
       "    </tr>\n",
       "    <tr>\n",
       "      <th>1</th>\n",
       "      <td>SDE1920012</td>\n",
       "      <td>Zon</td>\n",
       "      <td>2019 Zon-PV &gt;= 15 kWp en &lt; 1 MWp</td>\n",
       "      <td>L.M.S. B.V.</td>\n",
       "      <td>Poelweg 40d</td>\n",
       "      <td>1424PB</td>\n",
       "      <td>DE KWAKEL</td>\n",
       "      <td>Noord-Holland</td>\n",
       "      <td>0.89</td>\n",
       "      <td>844</td>\n",
       "      <td>15</td>\n",
       "      <td>822510</td>\n",
       "      <td>Daksysteem</td>\n",
       "      <td>NaN</td>\n",
       "      <td>NaN</td>\n",
       "    </tr>\n",
       "    <tr>\n",
       "      <th>2</th>\n",
       "      <td>SDE1920014</td>\n",
       "      <td>Zon</td>\n",
       "      <td>2019 Zon-PV &gt;= 15 kWp en &lt; 1 MWp</td>\n",
       "      <td>CBRE Dret Custodian II B.V.</td>\n",
       "      <td>Belgieplein 107</td>\n",
       "      <td>1066RC</td>\n",
       "      <td>AMSTERDAM</td>\n",
       "      <td>Noord-Holland</td>\n",
       "      <td>0.21</td>\n",
       "      <td>203</td>\n",
       "      <td>15</td>\n",
       "      <td>192119</td>\n",
       "      <td>Daksysteem</td>\n",
       "      <td>NaN</td>\n",
       "      <td>NaN</td>\n",
       "    </tr>\n",
       "    <tr>\n",
       "      <th>3</th>\n",
       "      <td>SDE1920018</td>\n",
       "      <td>Zon</td>\n",
       "      <td>2019 Zon-PV &gt;= 15 kWp en &lt; 1 MWp</td>\n",
       "      <td>Achterbosch Kleinmetaal Bewerking B.V.</td>\n",
       "      <td>Dieselweg 4</td>\n",
       "      <td>7591HG</td>\n",
       "      <td>DENEKAMP</td>\n",
       "      <td>Overijssel</td>\n",
       "      <td>0.49</td>\n",
       "      <td>464</td>\n",
       "      <td>15</td>\n",
       "      <td>452010</td>\n",
       "      <td>Daksysteem</td>\n",
       "      <td>NaN</td>\n",
       "      <td>NaN</td>\n",
       "    </tr>\n",
       "    <tr>\n",
       "      <th>4</th>\n",
       "      <td>SDE1920030</td>\n",
       "      <td>Zon</td>\n",
       "      <td>2019 Zon-PV &gt;= 15 kWp en &lt; 1 MWp</td>\n",
       "      <td>***</td>\n",
       "      <td>***</td>\n",
       "      <td>5688**</td>\n",
       "      <td>OIRSCHOT</td>\n",
       "      <td>Noord-Brabant</td>\n",
       "      <td>0.32</td>\n",
       "      <td>304</td>\n",
       "      <td>15</td>\n",
       "      <td>296400</td>\n",
       "      <td>Daksysteem</td>\n",
       "      <td>NaN</td>\n",
       "      <td>NaN</td>\n",
       "    </tr>\n",
       "    <tr>\n",
       "      <th>...</th>\n",
       "      <td>...</td>\n",
       "      <td>...</td>\n",
       "      <td>...</td>\n",
       "      <td>...</td>\n",
       "      <td>...</td>\n",
       "      <td>...</td>\n",
       "      <td>...</td>\n",
       "      <td>...</td>\n",
       "      <td>...</td>\n",
       "      <td>...</td>\n",
       "      <td>...</td>\n",
       "      <td>...</td>\n",
       "      <td>...</td>\n",
       "      <td>...</td>\n",
       "      <td>...</td>\n",
       "    </tr>\n",
       "    <tr>\n",
       "      <th>1155</th>\n",
       "      <td>SDE1929978</td>\n",
       "      <td>Zon</td>\n",
       "      <td>2019 Zon-PV &gt;= 15 kWp en &lt; 1 MWp</td>\n",
       "      <td>Burgy Bouwbedrijf B.V.</td>\n",
       "      <td>Amphoraweg 1</td>\n",
       "      <td>2332ED</td>\n",
       "      <td>LEIDEN</td>\n",
       "      <td>Zuid-Holland</td>\n",
       "      <td>0.22</td>\n",
       "      <td>204</td>\n",
       "      <td>15</td>\n",
       "      <td>199144</td>\n",
       "      <td>Daksysteem</td>\n",
       "      <td>NaN</td>\n",
       "      <td>NaN</td>\n",
       "    </tr>\n",
       "    <tr>\n",
       "      <th>1156</th>\n",
       "      <td>SDE1929981</td>\n",
       "      <td>Zon</td>\n",
       "      <td>2019 Zon-PV &gt;= 1 MWp veld- of watersysteem</td>\n",
       "      <td>Rivierenland, Waterschap</td>\n",
       "      <td>Robijnsweg 15</td>\n",
       "      <td>4254LB</td>\n",
       "      <td>SLEEUWIJK</td>\n",
       "      <td>Noord-Brabant</td>\n",
       "      <td>2.97</td>\n",
       "      <td>2822</td>\n",
       "      <td>15</td>\n",
       "      <td>2666318</td>\n",
       "      <td>Veldsysteem</td>\n",
       "      <td>NaN</td>\n",
       "      <td>NaN</td>\n",
       "    </tr>\n",
       "    <tr>\n",
       "      <th>1157</th>\n",
       "      <td>SDE1929983</td>\n",
       "      <td>Zon</td>\n",
       "      <td>2019 Zon-PV &gt;= 1 MWp veld- of watersysteem</td>\n",
       "      <td>Groenleven</td>\n",
       "      <td>Zonnepark Bornwird Dokkum</td>\n",
       "      <td>-</td>\n",
       "      <td>DOKKUM</td>\n",
       "      <td>Friesland</td>\n",
       "      <td>11.49</td>\n",
       "      <td>10916</td>\n",
       "      <td>15</td>\n",
       "      <td>10151415</td>\n",
       "      <td>Veldsysteem</td>\n",
       "      <td>NaN</td>\n",
       "      <td>NaN</td>\n",
       "    </tr>\n",
       "    <tr>\n",
       "      <th>1158</th>\n",
       "      <td>SDE1929985</td>\n",
       "      <td>Zon</td>\n",
       "      <td>2019 Zon-PV &gt;= 15 kWp en &lt; 1 MWp</td>\n",
       "      <td>Gemeente Utrecht</td>\n",
       "      <td>Bouwstraat 55</td>\n",
       "      <td>3572SP</td>\n",
       "      <td>UTRECHT</td>\n",
       "      <td>Utrecht</td>\n",
       "      <td>0.03</td>\n",
       "      <td>30</td>\n",
       "      <td>15</td>\n",
       "      <td>29177</td>\n",
       "      <td>Daksysteem</td>\n",
       "      <td>NaN</td>\n",
       "      <td>NaN</td>\n",
       "    </tr>\n",
       "    <tr>\n",
       "      <th>1159</th>\n",
       "      <td>SDE1929997</td>\n",
       "      <td>Zon</td>\n",
       "      <td>2019 Zon-PV &gt;= 15 kWp en &lt; 1 MWp</td>\n",
       "      <td>CBRE Dret Custodian II B.V.</td>\n",
       "      <td>Belgieplein 106</td>\n",
       "      <td>1066SC</td>\n",
       "      <td>AMSTERDAM</td>\n",
       "      <td>Noord-Holland</td>\n",
       "      <td>0.17</td>\n",
       "      <td>160</td>\n",
       "      <td>15</td>\n",
       "      <td>151630</td>\n",
       "      <td>Daksysteem</td>\n",
       "      <td>NaN</td>\n",
       "      <td>NaN</td>\n",
       "    </tr>\n",
       "  </tbody>\n",
       "</table>\n",
       "<p>1160 rows × 15 columns</p>\n",
       "</div>"
      ]
     },
     "metadata": {},
     "execution_count": 21
    }
   ],
   "metadata": {}
  },
  {
   "cell_type": "code",
   "execution_count": 22,
   "source": [
    "sun_projects = projects[projects[\"Thema\"] == \"Zon\"]\n",
    "wind_projects = projects[projects[\"Thema\"] == \"Wind op land\"]"
   ],
   "outputs": [],
   "metadata": {}
  },
  {
   "cell_type": "code",
   "execution_count": 29,
   "source": [
    "sun_projects.plot.scatter(x=\"Power [MW]\", y= \"Available production per year [MWh]\", title=\"Installed power and production of photovoltaic\")"
   ],
   "outputs": [
    {
     "output_type": "execute_result",
     "data": {
      "text/plain": [
       "<AxesSubplot:title={'center':'Installed power and production of photovoltaic'}, xlabel='Power [MW]', ylabel='Available production per year [MWh]'>"
      ]
     },
     "metadata": {},
     "execution_count": 29
    },
    {
     "output_type": "display_data",
     "data": {
      "text/plain": [
       "<Figure size 432x288 with 1 Axes>"
      ],
      "image/png": "[encoded data removed]"
     },
     "metadata": {
      "needs_background": "light"
     }
    }
   ],
   "metadata": {}
  },
  {
   "cell_type": "code",
   "execution_count": 27,
   "source": [
    "wind_projects.plot.scatter(x=\"Power [MW]\", y= \"Available production per year [MWh]\", title=\"Installed power and production of wind turbines\")"
   ],
   "outputs": [
    {
     "output_type": "execute_result",
     "data": {
      "text/plain": [
       "<AxesSubplot:title={'center':'Installed power and production of wind turbines'}, xlabel='Power [MW]', ylabel='Available production per year [MWh]'>"
      ]
     },
     "metadata": {},
     "execution_count": 27
    },
    {
     "output_type": "display_data",
     "data": {
      "text/plain": [
       "<Figure size 432x288 with 1 Axes>"
      ],
      "image/png": "[encoded data removed]"
     },
     "metadata": {
      "needs_background": "light"
     }
    }
   ],
   "metadata": {}
  },
  {
   "cell_type": "code",
   "execution_count": 30,
   "source": [
    "sun_projects[\"MWh/MW\"] = sun_projects[\"Available production per year [MWh]\"] / sun_projects[\"Power [MW]\"]"
   ],
   "outputs": [
    {
     "output_type": "stream",
     "name": "stderr",
     "text": [
      "<ipython-input-30-62f10cb0ecae>:1: SettingWithCopyWarning:\n",
      "\n",
      "\n",
      "A value is trying to be set on a copy of a slice from a DataFrame.\n",
      "Try using .loc[row_indexer,col_indexer] = value instead\n",
      "\n",
      "See the caveats in the documentation: https://pandas.pydata.org/pandas-docs/stable/user_guide/indexing.html#returning-a-view-versus-a-copy\n",
      "\n"
     ]
    }
   ],
   "metadata": {}
  },
  {
   "cell_type": "code",
   "execution_count": 32,
   "source": [
    "sun_projects[\"MWh/MW\"].describe()"
   ],
   "outputs": [
    {
     "output_type": "execute_result",
     "data": {
      "text/plain": [
       "count     986.000000\n",
       "mean      945.104617\n",
       "std        38.169444\n",
       "min       700.000000\n",
       "25%       940.938228\n",
       "50%       950.000000\n",
       "75%       953.333333\n",
       "max      1200.000000\n",
       "Name: MWh/MW, dtype: float64"
      ]
     },
     "metadata": {},
     "execution_count": 32
    }
   ],
   "metadata": {}
  },
  {
   "cell_type": "code",
   "execution_count": null,
   "source": [],
   "outputs": [],
   "metadata": {}
  }
 ],
 "metadata": {
  "orig_nbformat": 4,
  "language_info": {
   "name": "python",
   "version": "3.9.4",
   "mimetype": "text/x-python",
   "codemirror_mode": {
    "name": "ipython",
    "version": 3
   },
   "pygments_lexer": "ipython3",
   "nbconvert_exporter": "python",
   "file_extension": ".py"
  },
  "kernelspec": {
   "name": "python3",
   "display_name": "Python 3.9.4 64-bit ('MasterThesis': conda)"
  },
  "interpreter": {
   "hash": "c58096af5c43523aa9ce7107a4c87aa7fb5b8470e79980c25b315d1bf23c97f7"
  }
 },
 "nbformat": 4,
 "nbformat_minor": 2
}